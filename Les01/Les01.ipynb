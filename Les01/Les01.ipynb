{
 "cells": [
  {
   "cell_type": "markdown",
   "metadata": {},
   "source": [
    "**1.** Сравните метрики hit_rate@k, precision@k.   \n",
    "Какую метрику использовать предпочтительно и почему?  \n",
    "Приведите пример 2-3 задач (опишите, что является клиентом, что товаром), в которой более уместно использовать метрику hit_rate?"
   ]
  },
  {
   "cell_type": "markdown",
   "metadata": {},
   "source": [
    "1.1 Предпочтительно использовать precision@k, т. к. она проста в интерпретации и нагляднее демонстрирует эффективность работы рекомендательной системы.\n",
    "\n",
    "1.2 Для рассмотренной на уроке метрики hit_rate@k можно рассмотреть следующие варианты использования:\n",
    "\n",
    "а) Магазин дорогих/элитных/единичных товаров высокой стоимости. Тут достаточно чтобы клиент (покупатель) купил какой-либо товар в магазине.\n",
    "\n",
    "б) Возможно, имеет смысл применять на каком-либо видеосервисе. Так как после просмотра основного видео клиент (покупатель) важно чтобы остался на сервисе и продолжил смотреть другие видео (товар), неважно какие."
   ]
  },
  {
   "cell_type": "markdown",
   "metadata": {},
   "source": [
    "***"
   ]
  },
  {
   "cell_type": "markdown",
   "metadata": {},
   "source": [
    "**2.** В метрике NDCG@k мы используем логарифм в знаменателе. Как Вы думаете, почему именно логарифм? Какую функцию можно использовать вместо логарифма? Привидите пример метрик/подходов к предобработке данных/функций ошибок в ML, где также в  логарифм."
   ]
  },
  {
   "cell_type": "markdown",
   "metadata": {},
   "source": [
    "2.1 В ранжировании разница позиций в начале списка намного существеннее разницы позиций в конце списка (например, между 1 и 2 позициями разница более существенна чем между 9 и 10) и логарифм как раз обеспечивает данное требование.\n",
    "\n",
    "2.2 Экспоненту\n",
    "\n",
    "2.3 Кросс-энтропия и максимальная апостериорная (MAP) оценка"
   ]
  },
  {
   "cell_type": "markdown",
   "metadata": {},
   "source": [
    "***"
   ]
  },
  {
   "cell_type": "markdown",
   "metadata": {},
   "source": [
    "**3.** Какие еще метрики (Вы можете вспомнить уже пройденные Вами или посмотреть в интернете) могут использоваться для рекомендательных систем (приведите примеры метрики **и чем являются интеракции**, чтобы она могла быть использована)."
   ]
  },
  {
   "cell_type": "markdown",
   "metadata": {},
   "source": [
    "**MAE** - Среднее абсолютное отклонение (Интеракция - оценка по непрерывной шкале. Например, рейтинг товара);\n",
    "\n",
    "**MSE** - Среднеквадратичная ошибка (Интеракция - оценка по непрерывной шкале. Например, рейтинг товара);\n",
    "\n",
    "**F1-Measure** - Среднее гармоническое метрик Precision и Recall. Полезно, когда заранее невозможно сказать, какая из метрик важнее (Интеракция - бинарные данные. Например, купил товар или нет, поставил положительный или отрицательный отзыв);\n",
    "\n",
    "**ROC AUC** - Насколько высока концентрация интересных товаров в начале списка рекомендаций (Интеракция - бинарные данные. Например, купил товар или нет, поставил положительный или отрицательный отзыв);\n",
    "\n",
    "**Spearman Correlation** - Корреляция (Спирмена) реального и прогнозируемого рангов рекомендаций (Интеракция - любая. Оценивает правильность порядка рекомендаций);\n",
    "\n",
    "**Fraction of Concordance Pairs** - Насколько высока концентрация интересных товаров в начале списка рекомендаций (Интеракция - любая. Оценивает правильность порядка рекомендаций);"
   ]
  },
  {
   "cell_type": "markdown",
   "metadata": {},
   "source": [
    "***"
   ]
  },
  {
   "cell_type": "markdown",
   "metadata": {},
   "source": [
    "**4.** boughted = [1, 3, 5, 7, 9, 11]  \n",
    "recommended = [2, 5, 7, 4, 11, 9, 8, 10, 12, 3]  \n",
    "Посчитайте на этих данных pr@8, rec@8, AP@8, NDCG@8, RR@8, ERR@8 (expected reciprocal rank)  \n",
    "Сначала поссчитайет \"руками\", а затем подтвердите рассчеты с помощью функций (некоторые были на семинаре, некоторые нужно будут написать самостоятельно)"
   ]
  },
  {
   "cell_type": "code",
   "execution_count": 1,
   "metadata": {},
   "outputs": [],
   "source": [
    "boughted = [1, 3, 5, 7, 9, 11]\n",
    "recommended = [2, 5, 7, 4, 11, 9, 8, 10, 12, 3]"
   ]
  },
  {
   "cell_type": "markdown",
   "metadata": {},
   "source": [
    "$pr@8 = \\frac{0 + 1 + 1 + 0 + 1 + 1 + 0 + 0}{8} = 50\\%$"
   ]
  },
  {
   "cell_type": "code",
   "execution_count": 2,
   "metadata": {},
   "outputs": [],
   "source": [
    "import numpy as np"
   ]
  },
  {
   "cell_type": "code",
   "execution_count": 3,
   "metadata": {},
   "outputs": [],
   "source": [
    "def precision_at_k(recommended_list, bought_list, k=5):\n",
    "    \n",
    "    bought_list = np.array(bought_list)\n",
    "    recommended_list = np.array(recommended_list)\n",
    "    \n",
    "    bought_list = bought_list  # Тут нет [:k] !!\n",
    "    recommended_list = recommended_list[:k]\n",
    "    \n",
    "    flags = np.isin(bought_list, recommended_list)\n",
    "        \n",
    "    precision = flags.sum() / len(recommended_list)    \n",
    "    \n",
    "    return precision"
   ]
  },
  {
   "cell_type": "code",
   "execution_count": 4,
   "metadata": {},
   "outputs": [
    {
     "data": {
      "text/plain": [
       "0.5"
      ]
     },
     "execution_count": 4,
     "metadata": {},
     "output_type": "execute_result"
    }
   ],
   "source": [
    "precision_at_k(recommended, boughted, 8)"
   ]
  },
  {
   "cell_type": "markdown",
   "metadata": {},
   "source": [
    "*******"
   ]
  },
  {
   "cell_type": "markdown",
   "metadata": {},
   "source": [
    "$rec@8 = \\frac{0 + 1 + 1 + 0 + 1 + 1 + 0 + 0}{6} = 66\\%$"
   ]
  },
  {
   "cell_type": "code",
   "execution_count": 5,
   "metadata": {},
   "outputs": [],
   "source": [
    "def recall_at_k(recommended_list, bought_list, k=5):\n",
    "    bought_list = np.array(bought_list)\n",
    "    recommended_list = np.array(recommended_list)[:k]\n",
    "    \n",
    "    flags = np.isin(bought_list, recommended_list)\n",
    "    \n",
    "    recall = flags.sum() / len(bought_list)\n",
    "    \n",
    "    return recall"
   ]
  },
  {
   "cell_type": "code",
   "execution_count": 6,
   "metadata": {},
   "outputs": [
    {
     "data": {
      "text/plain": [
       "0.6666666666666666"
      ]
     },
     "execution_count": 6,
     "metadata": {},
     "output_type": "execute_result"
    }
   ],
   "source": [
    "recall_at_k(recommended, boughted, 8)"
   ]
  },
  {
   "cell_type": "markdown",
   "metadata": {},
   "source": [
    "***"
   ]
  },
  {
   "cell_type": "markdown",
   "metadata": {},
   "source": [
    "$AP@8=\\frac{0+\\frac{1}{2}+\\frac{2}{3}+0+\\frac{3}{5}+\\frac{4}{6}+0+0}{8}=0.304$"
   ]
  },
  {
   "cell_type": "code",
   "execution_count": 7,
   "metadata": {},
   "outputs": [],
   "source": [
    "def ap_k(recommended_list, bought_list, k=5):\n",
    "    \n",
    "    if len(recommended_list) > k:\n",
    "        recommended_list = recommended_list[:k]\n",
    "    \n",
    "    bought_list = np.array(bought_list)\n",
    "    recommended_list = np.array(recommended_list)\n",
    "    \n",
    "    flags = np.isin(recommended_list, bought_list)\n",
    "    \n",
    "    if sum(flags) == 0:\n",
    "        return 0\n",
    "    \n",
    "    sum_ = 0\n",
    "    for i in range(k): \n",
    "        if flags[i] == True:\n",
    "            p_k = precision_at_k(recommended_list, bought_list, k=i+1)\n",
    "            sum_ += p_k\n",
    "            \n",
    "    result = sum_ / len(flags)\n",
    "    \n",
    "    return result"
   ]
  },
  {
   "cell_type": "code",
   "execution_count": 8,
   "metadata": {},
   "outputs": [
    {
     "data": {
      "text/plain": [
       "0.30416666666666664"
      ]
     },
     "execution_count": 8,
     "metadata": {},
     "output_type": "execute_result"
    }
   ],
   "source": [
    "ap_k(recommended, boughted, 8)"
   ]
  },
  {
   "cell_type": "markdown",
   "metadata": {},
   "source": [
    "***"
   ]
  },
  {
   "cell_type": "markdown",
   "metadata": {},
   "source": [
    "$RR@8=\\frac{0}{1}+\\frac{1}{2}=0.5$"
   ]
  },
  {
   "cell_type": "code",
   "execution_count": 9,
   "metadata": {},
   "outputs": [],
   "source": [
    "def reciprocal_rank_at_k(recommended_list, bought_list, k=5):\n",
    "    if len(recommended_list) > k:\n",
    "        recommended_list = recommended_list[:k]\n",
    "    ranks = 0.\n",
    "    for item_rec in recommended_list:\n",
    "        if item_rec not in bought_list:\n",
    "            ranks += 1\n",
    "            continue\n",
    "        else:\n",
    "            ranks += 1\n",
    "            return 1 / ranks"
   ]
  },
  {
   "cell_type": "code",
   "execution_count": 10,
   "metadata": {},
   "outputs": [
    {
     "data": {
      "text/plain": [
       "0.5"
      ]
     },
     "execution_count": 10,
     "metadata": {},
     "output_type": "execute_result"
    }
   ],
   "source": [
    "reciprocal_rank_at_k(recommended, boughted, 8)"
   ]
  },
  {
   "cell_type": "markdown",
   "metadata": {},
   "source": [
    "***"
   ]
  },
  {
   "cell_type": "markdown",
   "metadata": {},
   "source": [
    "$DCG@8 = \\frac{1}{8}*(0 / 1 + 1 / log(2) + 1 / log(3) + 0 / log(4) + 1 / log(5) + 1 / log(6) + 0 / log(7) + 0 / log(8))=0.306$\n",
    "\n",
    "$idealDCG@8 = \\frac{1}{8}*(1 / 1 + 1 / log(2) + 1 / log(3) + 1 / log(4) + 1 / log(5) + 1 / log(6) + 1 / log(7) + 1 / log(8))=0.58$\n",
    "\n",
    "$NDCG@8 = \\frac{0.306}{0.58}=0.527$"
   ]
  },
  {
   "cell_type": "code",
   "execution_count": 11,
   "metadata": {},
   "outputs": [],
   "source": [
    "def dcg_at_k(recommended_list, bought_list, k=5):\n",
    "    if len(recommended_list) > k:\n",
    "        recommended_list = recommended_list[:k+1]\n",
    "    \n",
    "    bought_list = np.array(bought_list)\n",
    "    recommended_list = np.array(recommended_list)\n",
    "    \n",
    "    flags = np.isin(recommended_list, bought_list)\n",
    "    sum_ = flags[0]/1\n",
    "    \n",
    "    for i in range(2, k+1):\n",
    "        value = flags[i-1]/np.log2(i)\n",
    "        sum_ += value\n",
    "        \n",
    "    return sum_/k"
   ]
  },
  {
   "cell_type": "code",
   "execution_count": 12,
   "metadata": {},
   "outputs": [],
   "source": [
    "def ndcg_at_k(recommended_list, bought_list, k=5):\n",
    "    if len(recommended_list) > k:\n",
    "        recommended_list = recommended_list[:k+1]\n",
    "    \n",
    "    bought_list = np.array(bought_list)\n",
    "    recommended_list = np.array(recommended_list)\n",
    "    \n",
    "    sum_ = 1\n",
    "    \n",
    "    for i in range(2, k+1):\n",
    "        value = 1/np.log2(i)\n",
    "        sum_ += value\n",
    "    ideal_dcg = sum_ / k\n",
    "    result = dcg_at_k(recommended_list, bought_list, k) / ideal_dcg\n",
    "    \n",
    "    return result"
   ]
  },
  {
   "cell_type": "code",
   "execution_count": 13,
   "metadata": {},
   "outputs": [
    {
     "data": {
      "text/plain": [
       "0.5279127445637272"
      ]
     },
     "execution_count": 13,
     "metadata": {},
     "output_type": "execute_result"
    }
   ],
   "source": [
    "ndcg_at_k(recommended, boughted, 8)"
   ]
  },
  {
   "cell_type": "markdown",
   "metadata": {},
   "source": [
    "***"
   ]
  },
  {
   "cell_type": "markdown",
   "metadata": {},
   "source": [
    "$ERR@8 = 0+1*\\frac{\\frac{2^1-1}{2}}{2}+0.5*\\frac{\\frac{2^1-1}{2}}{3}+0+0.25*\\frac{\\frac{2^1-1}{2}}{5}+0.125*\\frac{\\frac{2^1-1}{2}}{6}+0+0+0+0.0625*\\frac{\\frac{2^1-1}{2}}{8}=0.37$"
   ]
  },
  {
   "cell_type": "code",
   "execution_count": 14,
   "metadata": {},
   "outputs": [],
   "source": [
    "def err_at_k(recommended_list, bought_list, k=5):\n",
    "    if len(recommended_list) > k:\n",
    "        recommended_list = recommended_list[:k]\n",
    "    flags = np.isin(recommended_list, bought_list).astype(float)\n",
    "    p = 1\n",
    "    err = 0\n",
    "    for i in range(1, k+1):\n",
    "        r = (2**flags[i-1] - 1) / 2**np.max(flags)\n",
    "        err += p * r / i\n",
    "        p *= 1 - r\n",
    "    return err"
   ]
  },
  {
   "cell_type": "code",
   "execution_count": 15,
   "metadata": {},
   "outputs": [
    {
     "data": {
      "text/plain": [
       "0.36875"
      ]
     },
     "execution_count": 15,
     "metadata": {},
     "output_type": "execute_result"
    }
   ],
   "source": [
    "err_at_k(recommended, boughted, 8)"
   ]
  }
 ],
 "metadata": {
  "kernelspec": {
   "display_name": "Python 3",
   "language": "python",
   "name": "python3"
  },
  "language_info": {
   "codemirror_mode": {
    "name": "ipython",
    "version": 3
   },
   "file_extension": ".py",
   "mimetype": "text/x-python",
   "name": "python",
   "nbconvert_exporter": "python",
   "pygments_lexer": "ipython3",
   "version": "3.8.5"
  }
 },
 "nbformat": 4,
 "nbformat_minor": 4
}
